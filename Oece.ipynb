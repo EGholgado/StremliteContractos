{
 "cells": [
  {
   "cell_type": "code",
   "execution_count": 1,
   "id": "a8d4dd5a",
   "metadata": {},
   "outputs": [],
   "source": [
    "# Librerias\n",
    "import os\n",
    "import re\n",
    "import time\n",
    "import glob\n",
    "import json\n",
    "import random\n",
    "import numpy as np\n",
    "import pandas as pd\n",
    "from pathlib import Path\n",
    "from datetime import datetime\n",
    "from bs4 import BeautifulSoup\n",
    "from selenium import webdriver\n",
    "from selenium.webdriver.common.by import By\n",
    "from selenium.webdriver.support.ui import Select\n",
    "from selenium.webdriver.support.ui import WebDriverWait\n",
    "from selenium.common.exceptions import TimeoutException\n",
    "from selenium.common.exceptions import WebDriverException\n",
    "from selenium.webdriver.support import expected_conditions as EC"
   ]
  },
  {
   "cell_type": "code",
   "execution_count": 2,
   "id": "30222b17",
   "metadata": {},
   "outputs": [
    {
     "name": "stdout",
     "output_type": "stream",
     "text": [
      "Archivo Consolidado.parquet eliminado correctamente.\n",
      "Archivo DataMensualContrato.parquet eliminado correctamente.\n"
     ]
    }
   ],
   "source": [
    "archivos = [\"Consolidado.parquet\", \"DataMensualContrato.parquet\"]\n",
    "\n",
    "for archivo in archivos:\n",
    "    if os.path.exists(archivo):\n",
    "        os.remove(archivo)\n",
    "        print(f\"Archivo {archivo} eliminado correctamente.\")\n",
    "    else:\n",
    "        print(f\"El archivo {archivo} no existe.\")"
   ]
  },
  {
   "cell_type": "code",
   "execution_count": 3,
   "id": "749bb04a",
   "metadata": {},
   "outputs": [],
   "source": [
    "rutaOece = os.path.join(os.getcwd(), 'RegistroOece')\n",
    "os.makedirs(rutaOece, exist_ok=True)\n",
    "\n",
    "patron = re.compile(r'procesado_(\\d+)\\.html')\n",
    "RucsProcesados = []\n",
    "\n",
    "for archivo in os.listdir(rutaOece):\n",
    "    if archivo.endswith('.html'):\n",
    "        match = patron.match(archivo)\n",
    "        if match:\n",
    "            numero = int(match.group(1))\n",
    "            RucsProcesados.append(numero)\n",
    "\n",
    "RucsProcesados = [str(ruc) for ruc in RucsProcesados] "
   ]
  },
  {
   "cell_type": "code",
   "execution_count": 4,
   "id": "9327de9a",
   "metadata": {},
   "outputs": [],
   "source": [
    "def SinDuplicados(ruta_archivo):\n",
    "    if os.path.exists(ruta_archivo):\n",
    "        with open(ruta_archivo, 'r', encoding='utf-8') as f:\n",
    "            lineas = [line.strip() for line in f if line.strip()]\n",
    "        \n",
    "        lineas_unicas = sorted(set(lineas))\n",
    "        \n",
    "        with open(ruta_archivo, 'w', encoding='utf-8') as f:\n",
    "            for linea in lineas_unicas:\n",
    "                f.write(f\"{linea}\\n\")\n",
    "\n",
    "SinDuplicados(\"RucsImposibles.txt\")"
   ]
  },
  {
   "cell_type": "code",
   "execution_count": 5,
   "id": "ba3d39f0",
   "metadata": {},
   "outputs": [
    {
     "name": "stdout",
     "output_type": "stream",
     "text": [
      "Faltan procesar 117 RUCs\n"
     ]
    }
   ],
   "source": [
    "archivo_rucs = \"ListaRucs.xlsx\"\n",
    "archivo_imposibles = 'RucsImposibles.txt'\n",
    "\n",
    "with open(archivo_imposibles, 'r', encoding='utf-8') as f:\n",
    "    RucsImposibles = [line.strip() for line in f if line.strip()]\n",
    "\n",
    "DataRucs = pd.read_excel(archivo_rucs)\n",
    "Rucs = DataRucs['RUC'].astype(str).str.strip()\n",
    "\n",
    "Rucs = Rucs[~Rucs.isin(RucsImposibles)]\n",
    "print(f\"Faltan procesar {len(Rucs)} RUCs\")"
   ]
  },
  {
   "cell_type": "code",
   "execution_count": 6,
   "id": "18afb63f",
   "metadata": {},
   "outputs": [
    {
     "name": "stdout",
     "output_type": "stream",
     "text": [
      "Faltan procesar 1 RUCs\n"
     ]
    }
   ],
   "source": [
    "if True:\n",
    "    RucsProcesados = [str(ruc).strip() for ruc in RucsProcesados]\n",
    "    Rucs = Rucs[~Rucs.isin(RucsProcesados)]\n",
    "    #Rucs = Rucs.head(1)\n",
    "    print(f\"Faltan procesar {len(Rucs)} RUCs\")"
   ]
  },
  {
   "cell_type": "code",
   "execution_count": 7,
   "id": "7c2e669f",
   "metadata": {},
   "outputs": [
    {
     "name": "stdout",
     "output_type": "stream",
     "text": [
      "Guardado HTML para el RUC: 20527026238\n"
     ]
    }
   ],
   "source": [
    "def registrar_ruc_imposible(ruc, archivo=archivo_imposibles):\n",
    "    with open(archivo, 'a', encoding='utf-8') as f:\n",
    "        f.write(f\"{ruc}\\n\")\n",
    "\n",
    "if len(Rucs) != 0:\n",
    "\n",
    "    driver = webdriver.Chrome()\n",
    "\n",
    "    try:\n",
    "        for ruc in Rucs:\n",
    "            ruc = str(ruc).strip()\n",
    "\n",
    "            URL = f\"https://eap.oece.gob.pe/perfilprov-bus/1.0/ficha/{ruc}/contrataciones/exportar\"\n",
    "            try:\n",
    "                driver.get(URL)\n",
    "                time.sleep(10) \n",
    "                html_completo = driver.page_source\n",
    "\n",
    "            except WebDriverException as e:\n",
    "                print(f\"Error cargando la página para el RUC {ruc}: {e}\")\n",
    "                registrar_ruc_imposible(ruc)\n",
    "                continue\n",
    "\n",
    "            nombre_archivo = f'procesado_{ruc}.html'\n",
    "            ruta_archivo = os.path.join(rutaOece, nombre_archivo)\n",
    "\n",
    "            hits_all_past = 0\n",
    "            if ruc in RucsProcesados and os.path.exists(ruta_archivo):\n",
    "                try:\n",
    "                    with open(ruta_archivo, \"r\", encoding=\"utf-8\") as f:\n",
    "                        html_pasado = BeautifulSoup(f.read(), \"html.parser\")\n",
    "                    json_text_past = html_pasado.find(\"pre\").text\n",
    "                    datos_pasados = json.loads(json_text_past)\n",
    "                    if datos_pasados.get(\"searchInfo\") and datos_pasados[\"searchInfo\"] is not None:\n",
    "                        hits_all_past = datos_pasados[\"searchInfo\"].get(\"hitsAll\", 0)\n",
    "                except Exception as e:\n",
    "                    print(f\"Error leyendo archivo pasado para {ruc}: {e}\")\n",
    "\n",
    "            html_presente = BeautifulSoup(html_completo, \"html.parser\")\n",
    "            pre_tag = html_presente.find(\"pre\")\n",
    "\n",
    "            if not pre_tag:\n",
    "                print(f\"No se encontró el tag <pre> en el HTML para el RUC: {ruc}, no se procesa.\")\n",
    "                registrar_ruc_imposible(ruc)\n",
    "                continue\n",
    "\n",
    "            try:\n",
    "                json_text_now = pre_tag.text\n",
    "                datos = json.loads(json_text_now)\n",
    "            except Exception as e:\n",
    "                print(f\"Error parseando JSON para el RUC {ruc}: {e}\")\n",
    "                registrar_ruc_imposible(ruc)\n",
    "                continue\n",
    "\n",
    "            search_info = datos.get(\"searchInfo\")\n",
    "            if search_info is None:\n",
    "                print(f\"No hay datos útiles para el RUC: {ruc}, no se guarda el HTML.\")\n",
    "                registrar_ruc_imposible(ruc)\n",
    "                continue\n",
    "\n",
    "            hits_all_now = search_info.get(\"hitsAll\", 0)\n",
    "\n",
    "            if hits_all_now == 0:\n",
    "                print(f\"No hay resultados (hitsAll == 0) para el RUC: {ruc}\")\n",
    "                registrar_ruc_imposible(ruc)\n",
    "                continue\n",
    "\n",
    "            if hits_all_past != hits_all_now and hits_all_past == 0 and hits_all_now != 0:\n",
    "                try:\n",
    "                    with open(ruta_archivo, 'w', encoding='utf-8') as f:\n",
    "                        f.write(html_completo)\n",
    "                    print(f\"Guardado HTML para el RUC: {ruc}\")\n",
    "                except Exception as e:\n",
    "                    print(f\"Error guardando archivo para el RUC {ruc}: {e}\")\n",
    "                    registrar_ruc_imposible(ruc)\n",
    "\n",
    "    finally:\n",
    "        try:\n",
    "            driver.quit()\n",
    "        except Exception as e:\n",
    "            print(f\"Error cerrando el navegador: {e}\")"
   ]
  },
  {
   "cell_type": "code",
   "execution_count": 8,
   "id": "b985a971",
   "metadata": {},
   "outputs": [],
   "source": [
    "lista_dfs = []\n",
    "\n",
    "for archivo in os.listdir(rutaOece):\n",
    "    if archivo.endswith('.html'):\n",
    "        ruta_archivo = os.path.join(rutaOece, archivo)\n",
    "        with open(ruta_archivo, 'r', encoding='utf-8') as f:\n",
    "            soup = BeautifulSoup(f, 'html.parser')\n",
    "            data_json = json.loads(soup.find('pre').text)\n",
    "            if 'contratosE01' in data_json:\n",
    "                df = pd.DataFrame(data_json['contratosE01'])\n",
    "                ruc = archivo.replace('procesado_', '').replace('.html', '')\n",
    "                df['RUC Origen'] = ruc\n",
    "                lista_dfs.append(df)\n",
    "\n",
    "df_consolidado = pd.concat(lista_dfs, ignore_index=True)\n",
    "df_consolidado = df_consolidado.drop_duplicates()"
   ]
  },
  {
   "cell_type": "code",
   "execution_count": 9,
   "id": "ce50f720",
   "metadata": {},
   "outputs": [],
   "source": [
    "df_consolidado['miembros_consorcio'] = df_consolidado['miembros_consorcio'].fillna('')  # reemplaza NaN por ''\n",
    "mask_vacio = df_consolidado['miembros_consorcio'].str.strip() == ''  # filas con cadena vacía o espacios\n",
    "df_consolidado.loc[mask_vacio, 'miembros_consorcio'] = df_consolidado.loc[mask_vacio, 'RUC Origen'].astype(str) + \"|100\""
   ]
  },
  {
   "cell_type": "code",
   "execution_count": 10,
   "id": "c121bff3",
   "metadata": {},
   "outputs": [],
   "source": [
    "def obtener_porcentaje(ruc_objetivo, miembros):\n",
    "    if pd.isna(miembros):\n",
    "        return None\n",
    "    pares = miembros.split('||')\n",
    "    for par in pares:\n",
    "        partes = par.split('|')\n",
    "        if len(partes) >= 2 and partes[0] == ruc_objetivo:\n",
    "            try:\n",
    "                return float(partes[1])\n",
    "            except ValueError:\n",
    "                return None\n",
    "    return None\n",
    "\n",
    "df_consolidado['monto_del_contrato_original'] = pd.to_numeric(\n",
    "    df_consolidado['monto_del_contrato_original'], errors='coerce')\n",
    "\n",
    "df_consolidado['participacion_ruc_origen'] = df_consolidado.apply(\n",
    "    lambda row: obtener_porcentaje(row['RUC Origen'], row.get('miembros_consorcio')),\n",
    "    axis=1)\n",
    "\n",
    "df_consolidado['Valor Proporcional GE'] = df_consolidado['participacion_ruc_origen'] * df_consolidado['monto_del_contrato_original'] /100\n",
    "\n",
    "df_consolidado['fecha_de_firma_de_contrato'] = pd.to_datetime(df_consolidado['fecha_de_firma_de_contrato'], dayfirst=True, errors='coerce')\n",
    "df_consolidado['fecha_prevista_de_fin_de_contrato'] = pd.to_datetime(df_consolidado['fecha_prevista_de_fin_de_contrato'], dayfirst=True, errors='coerce')\n",
    "\n",
    "df_consolidado['Nro de dias'] = (\n",
    "    df_consolidado['fecha_prevista_de_fin_de_contrato'] - df_consolidado['fecha_de_firma_de_contrato']).dt.days\n",
    "\n",
    "df_consolidado['Valor Mensual proporcional'] = (df_consolidado['Valor Proporcional GE']/df_consolidado['Nro de dias'])*30\n",
    "\n",
    "df_consolidado['plazo en Meses'] = round(df_consolidado['Nro de dias'] /30,1)\n",
    "\n",
    "df_consolidado['Valor Proporcional GE'] = df_consolidado['Valor Proporcional GE'].apply(\n",
    "    lambda x: f\"{x:,.2f}\" if pd.notna(x) else \"\")\n",
    "\n",
    "df_consolidado['Valor Mensual proporcional'] = df_consolidado['Valor Mensual proporcional'].apply(\n",
    "    lambda x: f\"{x:,.2f}\" if pd.notna(x) else \"\")"
   ]
  },
  {
   "cell_type": "code",
   "execution_count": 11,
   "id": "9da409df",
   "metadata": {},
   "outputs": [],
   "source": [
    "df_consolidado.rename(columns={\n",
    "    'objeto': 'Objeto',\n",
    "    'descripcion': 'Descripción',\n",
    "    'entidad': 'Entidad',\n",
    "    'moneda_del_monto_del_contrato_original': 'Moneda del Contrato Original',\n",
    "    'monto_del_contrato_original': 'Monto del Contrato Original',\n",
    "    'fecha_de_firma_de_contrato': 'Fecha de Firma de Contrato',\n",
    "    'fecha_prevista_de_fin_de_contrato': 'Fecha Prevista de FIn de Contrato',\n",
    "    'miembros_consorcio': 'Miembros Consorcio',\n",
    "    'estado': 'Estado',\n",
    "    'RUC Origen': 'RUC',\n",
    "    'participacion_ruc_origen': '% Participación RUC',\n",
    "    'Valor Proporcional GE': 'Valor Proporcional GE',\n",
    "    'Nro de dias': 'N° Días',\n",
    "    'Valor Mensual proporcional': 'Valor Mensual proporcional',\n",
    "    'plazo en Meses': 'Plazo en Meses'\n",
    "}, inplace=True)\n"
   ]
  },
  {
   "cell_type": "code",
   "execution_count": 12,
   "id": "a4e4dca4",
   "metadata": {},
   "outputs": [],
   "source": [
    "patron = re.compile(r'procesado_(\\d+)\\.html')\n",
    "RucsProcesados = []\n",
    "\n",
    "for archivo in os.listdir(rutaOece):\n",
    "    if archivo.endswith('.html'):\n",
    "        match = patron.match(archivo)\n",
    "        if match:\n",
    "            numero = int(match.group(1))\n",
    "            RucsProcesados.append(numero)\n",
    "\n",
    "RucsProcesados = [str(ruc) for ruc in RucsProcesados] "
   ]
  },
  {
   "cell_type": "code",
   "execution_count": 13,
   "id": "e93af09f",
   "metadata": {},
   "outputs": [],
   "source": [
    "Ruclist = []\n",
    "RazonSocialist = []\n",
    "\n",
    "for ruc in RucsProcesados:\n",
    "    ruc = str(ruc).strip()\n",
    "    \n",
    "    nombre_archivo = f'procesado_{ruc}.html'\n",
    "    ruta_archivo = os.path.join(rutaOece, nombre_archivo)\n",
    "    \n",
    "    with open(ruta_archivo, \"r\", encoding=\"utf-8\") as f:\n",
    "        html_pasado = BeautifulSoup(f.read(), \"html.parser\")\n",
    "\n",
    "    pre_tag = html_pasado.find(\"pre\")\n",
    "    if not pre_tag:\n",
    "        print(f\"No se encontró <pre> para el RUC: {ruc}\")\n",
    "        continue\n",
    "\n",
    "    try:\n",
    "        json_text_past = pre_tag.text\n",
    "        datos_pasados = json.loads(json_text_past)\n",
    "\n",
    "        razon_social = datos_pasados.get(\"proveedorE02\", {}).get(\"razon_social_proveedor\", \"\")\n",
    "\n",
    "        Ruclist.append(ruc)\n",
    "        RazonSocialist.append(razon_social)\n",
    "\n",
    "    except json.JSONDecodeError as e:\n",
    "        print(f\"Error parseando JSON para {ruc}: {e}\")\n",
    "\n",
    "df_final = {\n",
    "    'RUC': Ruclist,\n",
    "    'Razón Social': RazonSocialist}\n",
    "\n",
    "df_final = pd.DataFrame(df_final)"
   ]
  },
  {
   "cell_type": "code",
   "execution_count": 14,
   "id": "957fa910",
   "metadata": {},
   "outputs": [],
   "source": [
    "df_consolidado['RUC'] = df_consolidado['RUC'].astype(str).str.strip()\n",
    "df_final['RUC'] = df_final['RUC'].astype(str).str.strip()\n",
    "\n",
    "df_consolidado = pd.merge(\n",
    "    df_consolidado,\n",
    "    df_final[['RUC', 'Razón Social']],\n",
    "    on='RUC',\n",
    "    how='left')"
   ]
  },
  {
   "cell_type": "code",
   "execution_count": 15,
   "id": "b8cd81e0",
   "metadata": {},
   "outputs": [],
   "source": [
    "df_consolidado['RUC'] = df_consolidado['RUC'].astype(str).str.strip()\n",
    "\n",
    "df_consolidado['Fecha de Firma de Contrato'] = pd.to_datetime(df_consolidado['Fecha de Firma de Contrato'], errors='coerce')\n",
    "df_consolidado['Fecha Prevista de FIn de Contrato'] = pd.to_datetime(df_consolidado['Fecha Prevista de FIn de Contrato'], errors='coerce')\n",
    "\n",
    "df_consolidado['% Participación RUC'] = pd.to_numeric(df_consolidado['% Participación RUC'], errors='coerce')\n",
    "\n",
    "df_consolidado['Valor Proporcional GE'] = df_consolidado['Valor Proporcional GE'].astype(str).str.replace(',', '')\n",
    "df_consolidado['Valor Proporcional GE'] = pd.to_numeric(df_consolidado['Valor Proporcional GE'], errors='coerce')\n",
    "\n",
    "df_consolidado['Monto del Contrato Original'] = df_consolidado['Monto del Contrato Original'].astype(str).str.replace(',', '')\n",
    "df_consolidado['Monto del Contrato Original'] = pd.to_numeric(df_consolidado['Monto del Contrato Original'], errors='coerce')\n",
    "\n",
    "df_consolidado['N° Días'] = round(df_consolidado['N° Días'],2)"
   ]
  },
  {
   "cell_type": "code",
   "execution_count": 16,
   "id": "973e8a82",
   "metadata": {},
   "outputs": [],
   "source": [
    "cols = ['RUC', 'Razón Social'] + [col for col in df_consolidado.columns if col not in ['RUC', 'Razón Social']]\n",
    "df_consolidado = df_consolidado[cols]"
   ]
  },
  {
   "cell_type": "code",
   "execution_count": 17,
   "id": "7021af87",
   "metadata": {},
   "outputs": [],
   "source": [
    "df_consolidado.to_parquet(\"Consolidado.parquet\", index=False)"
   ]
  },
  {
   "cell_type": "code",
   "execution_count": 18,
   "id": "07057149",
   "metadata": {},
   "outputs": [
    {
     "name": "stderr",
     "output_type": "stream",
     "text": [
      "C:\\Users\\eholgado\\AppData\\Local\\Temp\\ipykernel_23840\\2987101929.py:8: FutureWarning: 'M' is deprecated and will be removed in a future version, please use 'ME' instead.\n",
      "  fechas_periodos = pd.date_range(start=fecha_inicio, end=fecha_fin, freq='M')\n"
     ]
    }
   ],
   "source": [
    "df_consolidado['Valor Mensual proporcional'] = pd.to_numeric(\n",
    "    df_consolidado['Valor Mensual proporcional'].astype(str).str.replace(',', ''),\n",
    "    errors='coerce'\n",
    ").fillna(0)\n",
    "\n",
    "fecha_inicio = df_consolidado['Fecha de Firma de Contrato'].min()\n",
    "fecha_fin = df_consolidado['Fecha Prevista de FIn de Contrato'].max()\n",
    "fechas_periodos = pd.date_range(start=fecha_inicio, end=fecha_fin, freq='M')\n",
    "\n",
    "registro = []\n",
    "\n",
    "for periodo in fechas_periodos:\n",
    "    contratos_activos = df_consolidado[\n",
    "        (df_consolidado['Fecha de Firma de Contrato'] <= periodo) &\n",
    "        (df_consolidado['Fecha Prevista de FIn de Contrato'] >= periodo)\n",
    "    ].copy()\n",
    "    \n",
    "    contratos_activos['Fecha Periodo'] = periodo\n",
    "    contratos_activos = contratos_activos[['RUC', 'Razón Social', 'Fecha Periodo', 'Valor Mensual proporcional', 'Descripción']]\n",
    "    \n",
    "    registro.append(contratos_activos)\n",
    "\n",
    "df_mensual = pd.concat(registro, ignore_index=True)\n",
    "\n",
    "df_resumen = df_mensual.groupby(\n",
    "    ['RUC', 'Razón Social', 'Fecha Periodo'],\n",
    "    as_index=False\n",
    ")['Valor Mensual proporcional'].sum()\n",
    "\n",
    "df_conteo = df_mensual.groupby(['RUC', 'Fecha Periodo'])['Descripción'].nunique().reset_index()\n",
    "df_conteo = df_conteo.rename(columns={'Descripción': 'Contratos'})\n",
    "\n",
    "df_resumen = pd.merge(df_resumen, df_conteo, on=['RUC', 'Fecha Periodo'], how='left')\n",
    "df_resumen['Contratos'] = df_resumen['Contratos'].fillna(0).astype(int)\n",
    "\n",
    "df_resumen['Valor Mensual proporcional'] = df_resumen['Valor Mensual proporcional'].fillna(0)\n",
    "df_resumen.to_parquet(\"DataMensualContrato.parquet\", index=False)"
   ]
  }
 ],
 "metadata": {
  "kernelspec": {
   "display_name": "Python 3",
   "language": "python",
   "name": "python3"
  },
  "language_info": {
   "codemirror_mode": {
    "name": "ipython",
    "version": 3
   },
   "file_extension": ".py",
   "mimetype": "text/x-python",
   "name": "python",
   "nbconvert_exporter": "python",
   "pygments_lexer": "ipython3",
   "version": "3.13.1"
  }
 },
 "nbformat": 4,
 "nbformat_minor": 5
}
